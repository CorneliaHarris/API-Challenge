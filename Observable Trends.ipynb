{
 "cells": [
  {
   "cell_type": "markdown",
   "metadata": {},
   "source": [
    "Three observable trends in the Weatherpy scatterplots:\n",
    "\n",
    "1. City Latitude vs Max Temperature has a strong, positive, non-linear relationship.\n",
    "2. There is no association between City Latitude and Cloudiness.\n",
    "3. There is a moderately positive non-linear relation between City Latitude and Wind Speed"
   ]
  }
 ],
 "metadata": {
  "kernelspec": {
   "display_name": "PythonData",
   "language": "python",
   "name": "pythondata"
  },
  "language_info": {
   "codemirror_mode": {
    "name": "ipython",
    "version": 3
   },
   "file_extension": ".py",
   "mimetype": "text/x-python",
   "name": "python",
   "nbconvert_exporter": "python",
   "pygments_lexer": "ipython3",
   "version": "3.6.10"
  }
 },
 "nbformat": 4,
 "nbformat_minor": 4
}
